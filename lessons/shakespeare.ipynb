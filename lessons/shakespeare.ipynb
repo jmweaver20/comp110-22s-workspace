{
 "cells": [
  {
   "cell_type": "markdown",
   "metadata": {},
   "source": [
    "# Processing Shakespeare\n",
    "\n",
    "Counting all the letters in Shakespeare's works!\n",
    "\n",
    "First step is to read each line of the text file into a list of strings."
   ]
  },
  {
   "cell_type": "code",
   "execution_count": 23,
   "metadata": {},
   "outputs": [
    {
     "name": "stdout",
     "output_type": "stream",
     "text": [
      "124190\n"
     ]
    }
   ],
   "source": [
    "from io import TextIOWrapper\n",
    "\n",
    "def read_lines(filename: str) -> list[str]:\n",
    "    \"\"\"Read a text file into a list of strings for each line.\"\"\"\n",
    "    lines: list[str] = []\n",
    "    file_handle: TextIOWrapper = open(filename, \"r\")\n",
    "    for line in file_handle:\n",
    "        line = line.strip()\n",
    "        line = line.lower()\n",
    "        lines.append(line)\n",
    "    return lines\n",
    "\n",
    "shakespeares_lines: list[str] = read_lines(\"./shakespeare.txt\")\n",
    "print(len(shakespeares_lines))"
   ]
  },
  {
   "cell_type": "code",
   "execution_count": 24,
   "metadata": {},
   "outputs": [
    {
     "name": "stdout",
     "output_type": "stream",
     "text": [
      "['the sonnets', '', 'by william shakespeare', '', '']\n"
     ]
    }
   ],
   "source": [
    "# Example of \"Slice Notation\"\n",
    "\n",
    "print(shakespeares_lines[0:5])"
   ]
  },
  {
   "cell_type": "markdown",
   "metadata": {},
   "source": [
    "The next step of our analysis is to count all of the letters in Shakespeare's complete body of work."
   ]
  },
  {
   "cell_type": "code",
   "execution_count": 25,
   "metadata": {},
   "outputs": [
    {
     "name": "stdout",
     "output_type": "stream",
     "text": [
      "{'t': 328986, 'h': 236583, 'e': 446145, 's': 248518, 'o': 313890, 'n': 242750, 'b': 61788, 'y': 94173, 'w': 89286, 'i': 253329, 'l': 169657, 'a': 288594, 'm': 111219, 'k': 35362, 'p': 58249, 'r': 237250, 'f': 80333, 'c': 87839, 'u': 128697, 'd': 149126, 'g': 68054, 'v': 37497, 'z': 1626, 'x': 5217, 'q': 3577, 'j': 4752}\n"
     ]
    }
   ],
   "source": [
    "# Write a function named `tally`:\n",
    "# Given a reference to a dictionary, and a key:\n",
    "    # Increase the value stored at the key by 1 if key exists\n",
    "    # else, set key's initial value to zero\n",
    "\n",
    "def tally(work: dict[str, int], keyval: str) -> None:\n",
    "    \"\"\"Given a dictionary and key, return accurate count of key existing within dictionary.\"\"\"\n",
    "    if keyval in work:\n",
    "        work[keyval] += 1\n",
    "    else:\n",
    "        work[keyval] = 1\n",
    "\n",
    "\n",
    "def count_letters(lines: list[str]) -> dict[str, int]:\n",
    "    \"\"\"Count the frequency of all letters in a list of strings.\"\"\"\n",
    "    counts: dict[str, int] = {}\n",
    "    for line in lines:\n",
    "        for char in line:\n",
    "            if char >= 'a' and char <= 'z':\n",
    "                tally(counts, char)\n",
    "    return counts\n",
    "\n",
    "shakespeare_counts: dict[str, int] = (count_letters(shakespeares_lines))\n",
    "print(shakespeare_counts)"
   ]
  },
  {
   "cell_type": "markdown",
   "metadata": {},
   "source": [
    "Visualize with a bar chart this data about character frequencies."
   ]
  },
  {
   "cell_type": "code",
   "execution_count": 27,
   "metadata": {},
   "outputs": [
    {
     "ename": "SyntaxError",
     "evalue": "invalid syntax. Perhaps you forgot a comma? (801792419.py, line 3)",
     "output_type": "error",
     "traceback": [
      "\u001b[0;36m  Input \u001b[0;32mIn [27]\u001b[0;36m\u001b[0m\n\u001b[0;31m    shakespeare_counts = dict(sorted(shakespeare_counts.items())\u001b[0m\n\u001b[0m                              ^\u001b[0m\n\u001b[0;31mSyntaxError\u001b[0m\u001b[0;31m:\u001b[0m invalid syntax. Perhaps you forgot a comma?\n"
     ]
    }
   ],
   "source": [
    "from matplotlib import pyplot\n",
    "\n",
    "shakespeare_counts = dict(sorted(shakespeare_counts.items()))\n",
    "pyplot.title(\"Frequencies of letters in Shakespeare\")\n",
    "pyplot.xlabel(\"Letters\")\n",
    "pyplot.ylabel(\"Frequencies\")\n",
    "labels: list[str] = list(shakespeare_counts.keys())\n",
    "values: list[int] = list(shakespeare_counts.values())\n",
    "pyplot.bar(labels, values)"
   ]
  }
 ],
 "metadata": {
  "interpreter": {
   "hash": "aee8b7b246df8f9039afb4144a1f6fd8d2ca17a180786b69acc140d282b71a49"
  },
  "kernelspec": {
   "display_name": "Python 3.10.1 64-bit",
   "language": "python",
   "name": "python3"
  },
  "language_info": {
   "codemirror_mode": {
    "name": "ipython",
    "version": 3
   },
   "file_extension": ".py",
   "mimetype": "text/x-python",
   "name": "python",
   "nbconvert_exporter": "python",
   "pygments_lexer": "ipython3",
   "version": "3.10.1"
  },
  "orig_nbformat": 4
 },
 "nbformat": 4,
 "nbformat_minor": 2
}
